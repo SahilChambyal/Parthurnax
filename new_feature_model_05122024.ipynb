{
  "nbformat": 4,
  "nbformat_minor": 0,
  "metadata": {
    "colab": {
      "provenance": []
    },
    "kernelspec": {
      "name": "python3",
      "display_name": "Python 3"
    },
    "language_info": {
      "name": "python"
    }
  },
  "cells": [
    {
      "cell_type": "code",
      "execution_count": null,
      "metadata": {
        "colab": {
          "base_uri": "https://localhost:8080/"
        },
        "id": "svriC6wPJ9XV",
        "outputId": "70a270be-a5f4-418c-b8b9-cbe380c082bf"
      },
      "outputs": [
        {
          "output_type": "stream",
          "name": "stdout",
          "text": [
            "Warning: Looks like you're using an outdated `kagglehub` version, please consider updating (latest version: 0.3.5)\n",
            "Downloading from https://www.kaggle.com/api/v1/datasets/download/sahilchambyal/solana-price-usd?dataset_version_number=2...\n"
          ]
        },
        {
          "output_type": "stream",
          "name": "stderr",
          "text": [
            "100%|██████████| 288M/288M [00:04<00:00, 65.4MB/s]"
          ]
        },
        {
          "output_type": "stream",
          "name": "stdout",
          "text": [
            "Extracting files...\n"
          ]
        },
        {
          "output_type": "stream",
          "name": "stderr",
          "text": [
            "\n"
          ]
        },
        {
          "output_type": "stream",
          "name": "stdout",
          "text": [
            "/root/.cache/kagglehub/datasets/sahilchambyal/solana-price-usd/versions/2/SOL_2022_2024_30m.csv\n",
            "/root/.cache/kagglehub/datasets/sahilchambyal/solana-price-usd/versions/2/SOL_2020_2024_6H.csv\n",
            "/root/.cache/kagglehub/datasets/sahilchambyal/solana-price-usd/versions/2/SOLUSD_1min_20AUG2020_to15NOV2024.csv\n",
            "/root/.cache/kagglehub/datasets/sahilchambyal/solana-price-usd/versions/2/SOL_2022_2024_5m.csv\n",
            "/root/.cache/kagglehub/datasets/sahilchambyal/solana-price-usd/versions/2/SOL_2020_2024_8H.csv\n",
            "/root/.cache/kagglehub/datasets/sahilchambyal/solana-price-usd/versions/2/SOL_2020_2024_2H.csv\n",
            "/root/.cache/kagglehub/datasets/sahilchambyal/solana-price-usd/versions/2/SOL_2022_2024_3m.csv\n",
            "/root/.cache/kagglehub/datasets/sahilchambyal/solana-price-usd/versions/2/SOL_2022_2024_15m.csv\n",
            "/root/.cache/kagglehub/datasets/sahilchambyal/solana-price-usd/versions/2/SOLUSD_1s_05NOV2024_to15NOV2024.csv\n",
            "/root/.cache/kagglehub/datasets/sahilchambyal/solana-price-usd/versions/2/SOLUSD_1s_01NOV2024_to15NOV2024.csv\n",
            "/root/.cache/kagglehub/datasets/sahilchambyal/solana-price-usd/versions/2/SOL_2020_2024_4H.csv\n",
            "/root/.cache/kagglehub/datasets/sahilchambyal/solana-price-usd/versions/2/SOL_2020_2024_1H.csv\n",
            "/root/.cache/kagglehub/datasets/sahilchambyal/solana-price-usd/versions/2/SOL_2022_2024_1m.csv\n"
          ]
        }
      ],
      "source": [
        "import os\n",
        "import kagglehub\n",
        "\n",
        "data_path = kagglehub.dataset_download('sahilchambyal/solana-price-usd')\n",
        "\n",
        "# List the files inside the downloaded data directory\n",
        "for dirname, _, filenames in os.walk(data_path):\n",
        "    for filename in filenames:\n",
        "        print(os.path.join(dirname, filename))"
      ]
    },
    {
      "cell_type": "code",
      "source": [
        "import pandas as pd\n",
        "df = pd.read_csv(data_path + '/SOL_2022_2024_3m.csv')\n",
        "\n",
        "df.info()"
      ],
      "metadata": {
        "colab": {
          "base_uri": "https://localhost:8080/"
        },
        "id": "kOL9wCG4KpPY",
        "outputId": "a0255a7d-ed21-4174-f62a-e4172088232b"
      },
      "execution_count": null,
      "outputs": [
        {
          "output_type": "stream",
          "name": "stdout",
          "text": [
            "<class 'pandas.core.frame.DataFrame'>\n",
            "RangeIndex: 751000 entries, 0 to 750999\n",
            "Data columns (total 12 columns):\n",
            " #   Column               Non-Null Count   Dtype  \n",
            "---  ------               --------------   -----  \n",
            " 0   OpenTime             751000 non-null  int64  \n",
            " 1   Open                 751000 non-null  float64\n",
            " 2   High                 751000 non-null  float64\n",
            " 3   Low                  751000 non-null  float64\n",
            " 4   Close                751000 non-null  float64\n",
            " 5   Volume               751000 non-null  float64\n",
            " 6   CloseTime            751000 non-null  int64  \n",
            " 7   QuoteAssetVolume     751000 non-null  float64\n",
            " 8   NumberOfTrades       751000 non-null  int64  \n",
            " 9   TakerBuyBaseVolume   751000 non-null  float64\n",
            " 10  TakerBuyQuoteVolume  751000 non-null  float64\n",
            " 11  Ignore               751000 non-null  int64  \n",
            "dtypes: float64(8), int64(4)\n",
            "memory usage: 68.8 MB\n"
          ]
        }
      ]
    },
    {
      "cell_type": "code",
      "source": [
        "df.tail(10)"
      ],
      "metadata": {
        "colab": {
          "base_uri": "https://localhost:8080/",
          "height": 383
        },
        "id": "ajupJd_iKrGV",
        "outputId": "60fc92b5-5ee8-4f37-f4b0-26bb039f7203"
      },
      "execution_count": null,
      "outputs": [
        {
          "output_type": "execute_result",
          "data": {
            "text/plain": [
              "             OpenTime    Open    High     Low   Close     Volume  \\\n",
              "750990  1732897980000  243.57  243.70  242.20  242.45  14883.795   \n",
              "750991  1732898160000  242.45  242.71  242.10  242.49   7876.074   \n",
              "750992  1732898340000  242.49  243.05  242.45  242.58   8914.684   \n",
              "750993  1732898520000  242.58  242.65  242.24  242.59   6229.014   \n",
              "750994  1732898700000  242.59  242.84  242.55  242.71   5748.204   \n",
              "750995  1732898880000  242.71  243.05  242.42  242.78   7133.511   \n",
              "750996  1732899060000  242.79  242.91  242.44  242.58   7466.595   \n",
              "750997  1732899240000  242.58  242.72  242.00  242.19  10798.322   \n",
              "750998  1732899420000  242.19  242.34  241.92  241.94   5992.496   \n",
              "750999  1732899600000  241.94  242.24  241.92  242.03   6913.314   \n",
              "\n",
              "            CloseTime  QuoteAssetVolume  NumberOfTrades  TakerBuyBaseVolume  \\\n",
              "750990  1732898159999      3.615510e+06            7653            5206.844   \n",
              "750991  1732898339999      1.909204e+06            6884            4205.284   \n",
              "750992  1732898519999      2.163693e+06            5682            4843.722   \n",
              "750993  1732898699999      1.510289e+06            3988            2377.362   \n",
              "750994  1732898879999      1.395061e+06            5574            2635.518   \n",
              "750995  1732899059999      1.732033e+06            6413            3675.244   \n",
              "750996  1732899239999      1.811112e+06            4369            2621.359   \n",
              "750997  1732899419999      2.616085e+06            5221            3646.120   \n",
              "750998  1732899599999      1.450849e+06            3204            2003.626   \n",
              "750999  1732899779999      1.673791e+06            5500            3883.350   \n",
              "\n",
              "        TakerBuyQuoteVolume  Ignore  \n",
              "750990         1.265771e+06       0  \n",
              "750991         1.019470e+06       0  \n",
              "750992         1.175704e+06       0  \n",
              "750993         5.764486e+05       0  \n",
              "750994         6.396341e+05       0  \n",
              "750995         8.923938e+05       0  \n",
              "750996         6.358547e+05       0  \n",
              "750997         8.833995e+05       0  \n",
              "750998         4.852325e+05       0  \n",
              "750999         9.402054e+05       0  "
            ],
            "text/html": [
              "\n",
              "  <div id=\"df-f9de3a65-2af9-46a1-ad45-6a6d5915bda5\" class=\"colab-df-container\">\n",
              "    <div>\n",
              "<style scoped>\n",
              "    .dataframe tbody tr th:only-of-type {\n",
              "        vertical-align: middle;\n",
              "    }\n",
              "\n",
              "    .dataframe tbody tr th {\n",
              "        vertical-align: top;\n",
              "    }\n",
              "\n",
              "    .dataframe thead th {\n",
              "        text-align: right;\n",
              "    }\n",
              "</style>\n",
              "<table border=\"1\" class=\"dataframe\">\n",
              "  <thead>\n",
              "    <tr style=\"text-align: right;\">\n",
              "      <th></th>\n",
              "      <th>OpenTime</th>\n",
              "      <th>Open</th>\n",
              "      <th>High</th>\n",
              "      <th>Low</th>\n",
              "      <th>Close</th>\n",
              "      <th>Volume</th>\n",
              "      <th>CloseTime</th>\n",
              "      <th>QuoteAssetVolume</th>\n",
              "      <th>NumberOfTrades</th>\n",
              "      <th>TakerBuyBaseVolume</th>\n",
              "      <th>TakerBuyQuoteVolume</th>\n",
              "      <th>Ignore</th>\n",
              "    </tr>\n",
              "  </thead>\n",
              "  <tbody>\n",
              "    <tr>\n",
              "      <th>750990</th>\n",
              "      <td>1732897980000</td>\n",
              "      <td>243.57</td>\n",
              "      <td>243.70</td>\n",
              "      <td>242.20</td>\n",
              "      <td>242.45</td>\n",
              "      <td>14883.795</td>\n",
              "      <td>1732898159999</td>\n",
              "      <td>3.615510e+06</td>\n",
              "      <td>7653</td>\n",
              "      <td>5206.844</td>\n",
              "      <td>1.265771e+06</td>\n",
              "      <td>0</td>\n",
              "    </tr>\n",
              "    <tr>\n",
              "      <th>750991</th>\n",
              "      <td>1732898160000</td>\n",
              "      <td>242.45</td>\n",
              "      <td>242.71</td>\n",
              "      <td>242.10</td>\n",
              "      <td>242.49</td>\n",
              "      <td>7876.074</td>\n",
              "      <td>1732898339999</td>\n",
              "      <td>1.909204e+06</td>\n",
              "      <td>6884</td>\n",
              "      <td>4205.284</td>\n",
              "      <td>1.019470e+06</td>\n",
              "      <td>0</td>\n",
              "    </tr>\n",
              "    <tr>\n",
              "      <th>750992</th>\n",
              "      <td>1732898340000</td>\n",
              "      <td>242.49</td>\n",
              "      <td>243.05</td>\n",
              "      <td>242.45</td>\n",
              "      <td>242.58</td>\n",
              "      <td>8914.684</td>\n",
              "      <td>1732898519999</td>\n",
              "      <td>2.163693e+06</td>\n",
              "      <td>5682</td>\n",
              "      <td>4843.722</td>\n",
              "      <td>1.175704e+06</td>\n",
              "      <td>0</td>\n",
              "    </tr>\n",
              "    <tr>\n",
              "      <th>750993</th>\n",
              "      <td>1732898520000</td>\n",
              "      <td>242.58</td>\n",
              "      <td>242.65</td>\n",
              "      <td>242.24</td>\n",
              "      <td>242.59</td>\n",
              "      <td>6229.014</td>\n",
              "      <td>1732898699999</td>\n",
              "      <td>1.510289e+06</td>\n",
              "      <td>3988</td>\n",
              "      <td>2377.362</td>\n",
              "      <td>5.764486e+05</td>\n",
              "      <td>0</td>\n",
              "    </tr>\n",
              "    <tr>\n",
              "      <th>750994</th>\n",
              "      <td>1732898700000</td>\n",
              "      <td>242.59</td>\n",
              "      <td>242.84</td>\n",
              "      <td>242.55</td>\n",
              "      <td>242.71</td>\n",
              "      <td>5748.204</td>\n",
              "      <td>1732898879999</td>\n",
              "      <td>1.395061e+06</td>\n",
              "      <td>5574</td>\n",
              "      <td>2635.518</td>\n",
              "      <td>6.396341e+05</td>\n",
              "      <td>0</td>\n",
              "    </tr>\n",
              "    <tr>\n",
              "      <th>750995</th>\n",
              "      <td>1732898880000</td>\n",
              "      <td>242.71</td>\n",
              "      <td>243.05</td>\n",
              "      <td>242.42</td>\n",
              "      <td>242.78</td>\n",
              "      <td>7133.511</td>\n",
              "      <td>1732899059999</td>\n",
              "      <td>1.732033e+06</td>\n",
              "      <td>6413</td>\n",
              "      <td>3675.244</td>\n",
              "      <td>8.923938e+05</td>\n",
              "      <td>0</td>\n",
              "    </tr>\n",
              "    <tr>\n",
              "      <th>750996</th>\n",
              "      <td>1732899060000</td>\n",
              "      <td>242.79</td>\n",
              "      <td>242.91</td>\n",
              "      <td>242.44</td>\n",
              "      <td>242.58</td>\n",
              "      <td>7466.595</td>\n",
              "      <td>1732899239999</td>\n",
              "      <td>1.811112e+06</td>\n",
              "      <td>4369</td>\n",
              "      <td>2621.359</td>\n",
              "      <td>6.358547e+05</td>\n",
              "      <td>0</td>\n",
              "    </tr>\n",
              "    <tr>\n",
              "      <th>750997</th>\n",
              "      <td>1732899240000</td>\n",
              "      <td>242.58</td>\n",
              "      <td>242.72</td>\n",
              "      <td>242.00</td>\n",
              "      <td>242.19</td>\n",
              "      <td>10798.322</td>\n",
              "      <td>1732899419999</td>\n",
              "      <td>2.616085e+06</td>\n",
              "      <td>5221</td>\n",
              "      <td>3646.120</td>\n",
              "      <td>8.833995e+05</td>\n",
              "      <td>0</td>\n",
              "    </tr>\n",
              "    <tr>\n",
              "      <th>750998</th>\n",
              "      <td>1732899420000</td>\n",
              "      <td>242.19</td>\n",
              "      <td>242.34</td>\n",
              "      <td>241.92</td>\n",
              "      <td>241.94</td>\n",
              "      <td>5992.496</td>\n",
              "      <td>1732899599999</td>\n",
              "      <td>1.450849e+06</td>\n",
              "      <td>3204</td>\n",
              "      <td>2003.626</td>\n",
              "      <td>4.852325e+05</td>\n",
              "      <td>0</td>\n",
              "    </tr>\n",
              "    <tr>\n",
              "      <th>750999</th>\n",
              "      <td>1732899600000</td>\n",
              "      <td>241.94</td>\n",
              "      <td>242.24</td>\n",
              "      <td>241.92</td>\n",
              "      <td>242.03</td>\n",
              "      <td>6913.314</td>\n",
              "      <td>1732899779999</td>\n",
              "      <td>1.673791e+06</td>\n",
              "      <td>5500</td>\n",
              "      <td>3883.350</td>\n",
              "      <td>9.402054e+05</td>\n",
              "      <td>0</td>\n",
              "    </tr>\n",
              "  </tbody>\n",
              "</table>\n",
              "</div>\n",
              "    <div class=\"colab-df-buttons\">\n",
              "\n",
              "  <div class=\"colab-df-container\">\n",
              "    <button class=\"colab-df-convert\" onclick=\"convertToInteractive('df-f9de3a65-2af9-46a1-ad45-6a6d5915bda5')\"\n",
              "            title=\"Convert this dataframe to an interactive table.\"\n",
              "            style=\"display:none;\">\n",
              "\n",
              "  <svg xmlns=\"http://www.w3.org/2000/svg\" height=\"24px\" viewBox=\"0 -960 960 960\">\n",
              "    <path d=\"M120-120v-720h720v720H120Zm60-500h600v-160H180v160Zm220 220h160v-160H400v160Zm0 220h160v-160H400v160ZM180-400h160v-160H180v160Zm440 0h160v-160H620v160ZM180-180h160v-160H180v160Zm440 0h160v-160H620v160Z\"/>\n",
              "  </svg>\n",
              "    </button>\n",
              "\n",
              "  <style>\n",
              "    .colab-df-container {\n",
              "      display:flex;\n",
              "      gap: 12px;\n",
              "    }\n",
              "\n",
              "    .colab-df-convert {\n",
              "      background-color: #E8F0FE;\n",
              "      border: none;\n",
              "      border-radius: 50%;\n",
              "      cursor: pointer;\n",
              "      display: none;\n",
              "      fill: #1967D2;\n",
              "      height: 32px;\n",
              "      padding: 0 0 0 0;\n",
              "      width: 32px;\n",
              "    }\n",
              "\n",
              "    .colab-df-convert:hover {\n",
              "      background-color: #E2EBFA;\n",
              "      box-shadow: 0px 1px 2px rgba(60, 64, 67, 0.3), 0px 1px 3px 1px rgba(60, 64, 67, 0.15);\n",
              "      fill: #174EA6;\n",
              "    }\n",
              "\n",
              "    .colab-df-buttons div {\n",
              "      margin-bottom: 4px;\n",
              "    }\n",
              "\n",
              "    [theme=dark] .colab-df-convert {\n",
              "      background-color: #3B4455;\n",
              "      fill: #D2E3FC;\n",
              "    }\n",
              "\n",
              "    [theme=dark] .colab-df-convert:hover {\n",
              "      background-color: #434B5C;\n",
              "      box-shadow: 0px 1px 3px 1px rgba(0, 0, 0, 0.15);\n",
              "      filter: drop-shadow(0px 1px 2px rgba(0, 0, 0, 0.3));\n",
              "      fill: #FFFFFF;\n",
              "    }\n",
              "  </style>\n",
              "\n",
              "    <script>\n",
              "      const buttonEl =\n",
              "        document.querySelector('#df-f9de3a65-2af9-46a1-ad45-6a6d5915bda5 button.colab-df-convert');\n",
              "      buttonEl.style.display =\n",
              "        google.colab.kernel.accessAllowed ? 'block' : 'none';\n",
              "\n",
              "      async function convertToInteractive(key) {\n",
              "        const element = document.querySelector('#df-f9de3a65-2af9-46a1-ad45-6a6d5915bda5');\n",
              "        const dataTable =\n",
              "          await google.colab.kernel.invokeFunction('convertToInteractive',\n",
              "                                                    [key], {});\n",
              "        if (!dataTable) return;\n",
              "\n",
              "        const docLinkHtml = 'Like what you see? Visit the ' +\n",
              "          '<a target=\"_blank\" href=https://colab.research.google.com/notebooks/data_table.ipynb>data table notebook</a>'\n",
              "          + ' to learn more about interactive tables.';\n",
              "        element.innerHTML = '';\n",
              "        dataTable['output_type'] = 'display_data';\n",
              "        await google.colab.output.renderOutput(dataTable, element);\n",
              "        const docLink = document.createElement('div');\n",
              "        docLink.innerHTML = docLinkHtml;\n",
              "        element.appendChild(docLink);\n",
              "      }\n",
              "    </script>\n",
              "  </div>\n",
              "\n",
              "\n",
              "<div id=\"df-78f2356e-49ca-47a2-b261-2afd8a60d0fe\">\n",
              "  <button class=\"colab-df-quickchart\" onclick=\"quickchart('df-78f2356e-49ca-47a2-b261-2afd8a60d0fe')\"\n",
              "            title=\"Suggest charts\"\n",
              "            style=\"display:none;\">\n",
              "\n",
              "<svg xmlns=\"http://www.w3.org/2000/svg\" height=\"24px\"viewBox=\"0 0 24 24\"\n",
              "     width=\"24px\">\n",
              "    <g>\n",
              "        <path d=\"M19 3H5c-1.1 0-2 .9-2 2v14c0 1.1.9 2 2 2h14c1.1 0 2-.9 2-2V5c0-1.1-.9-2-2-2zM9 17H7v-7h2v7zm4 0h-2V7h2v10zm4 0h-2v-4h2v4z\"/>\n",
              "    </g>\n",
              "</svg>\n",
              "  </button>\n",
              "\n",
              "<style>\n",
              "  .colab-df-quickchart {\n",
              "      --bg-color: #E8F0FE;\n",
              "      --fill-color: #1967D2;\n",
              "      --hover-bg-color: #E2EBFA;\n",
              "      --hover-fill-color: #174EA6;\n",
              "      --disabled-fill-color: #AAA;\n",
              "      --disabled-bg-color: #DDD;\n",
              "  }\n",
              "\n",
              "  [theme=dark] .colab-df-quickchart {\n",
              "      --bg-color: #3B4455;\n",
              "      --fill-color: #D2E3FC;\n",
              "      --hover-bg-color: #434B5C;\n",
              "      --hover-fill-color: #FFFFFF;\n",
              "      --disabled-bg-color: #3B4455;\n",
              "      --disabled-fill-color: #666;\n",
              "  }\n",
              "\n",
              "  .colab-df-quickchart {\n",
              "    background-color: var(--bg-color);\n",
              "    border: none;\n",
              "    border-radius: 50%;\n",
              "    cursor: pointer;\n",
              "    display: none;\n",
              "    fill: var(--fill-color);\n",
              "    height: 32px;\n",
              "    padding: 0;\n",
              "    width: 32px;\n",
              "  }\n",
              "\n",
              "  .colab-df-quickchart:hover {\n",
              "    background-color: var(--hover-bg-color);\n",
              "    box-shadow: 0 1px 2px rgba(60, 64, 67, 0.3), 0 1px 3px 1px rgba(60, 64, 67, 0.15);\n",
              "    fill: var(--button-hover-fill-color);\n",
              "  }\n",
              "\n",
              "  .colab-df-quickchart-complete:disabled,\n",
              "  .colab-df-quickchart-complete:disabled:hover {\n",
              "    background-color: var(--disabled-bg-color);\n",
              "    fill: var(--disabled-fill-color);\n",
              "    box-shadow: none;\n",
              "  }\n",
              "\n",
              "  .colab-df-spinner {\n",
              "    border: 2px solid var(--fill-color);\n",
              "    border-color: transparent;\n",
              "    border-bottom-color: var(--fill-color);\n",
              "    animation:\n",
              "      spin 1s steps(1) infinite;\n",
              "  }\n",
              "\n",
              "  @keyframes spin {\n",
              "    0% {\n",
              "      border-color: transparent;\n",
              "      border-bottom-color: var(--fill-color);\n",
              "      border-left-color: var(--fill-color);\n",
              "    }\n",
              "    20% {\n",
              "      border-color: transparent;\n",
              "      border-left-color: var(--fill-color);\n",
              "      border-top-color: var(--fill-color);\n",
              "    }\n",
              "    30% {\n",
              "      border-color: transparent;\n",
              "      border-left-color: var(--fill-color);\n",
              "      border-top-color: var(--fill-color);\n",
              "      border-right-color: var(--fill-color);\n",
              "    }\n",
              "    40% {\n",
              "      border-color: transparent;\n",
              "      border-right-color: var(--fill-color);\n",
              "      border-top-color: var(--fill-color);\n",
              "    }\n",
              "    60% {\n",
              "      border-color: transparent;\n",
              "      border-right-color: var(--fill-color);\n",
              "    }\n",
              "    80% {\n",
              "      border-color: transparent;\n",
              "      border-right-color: var(--fill-color);\n",
              "      border-bottom-color: var(--fill-color);\n",
              "    }\n",
              "    90% {\n",
              "      border-color: transparent;\n",
              "      border-bottom-color: var(--fill-color);\n",
              "    }\n",
              "  }\n",
              "</style>\n",
              "\n",
              "  <script>\n",
              "    async function quickchart(key) {\n",
              "      const quickchartButtonEl =\n",
              "        document.querySelector('#' + key + ' button');\n",
              "      quickchartButtonEl.disabled = true;  // To prevent multiple clicks.\n",
              "      quickchartButtonEl.classList.add('colab-df-spinner');\n",
              "      try {\n",
              "        const charts = await google.colab.kernel.invokeFunction(\n",
              "            'suggestCharts', [key], {});\n",
              "      } catch (error) {\n",
              "        console.error('Error during call to suggestCharts:', error);\n",
              "      }\n",
              "      quickchartButtonEl.classList.remove('colab-df-spinner');\n",
              "      quickchartButtonEl.classList.add('colab-df-quickchart-complete');\n",
              "    }\n",
              "    (() => {\n",
              "      let quickchartButtonEl =\n",
              "        document.querySelector('#df-78f2356e-49ca-47a2-b261-2afd8a60d0fe button');\n",
              "      quickchartButtonEl.style.display =\n",
              "        google.colab.kernel.accessAllowed ? 'block' : 'none';\n",
              "    })();\n",
              "  </script>\n",
              "</div>\n",
              "\n",
              "    </div>\n",
              "  </div>\n"
            ],
            "application/vnd.google.colaboratory.intrinsic+json": {
              "type": "dataframe",
              "summary": "{\n  \"name\": \"df\",\n  \"rows\": 10,\n  \"fields\": [\n    {\n      \"column\": \"OpenTime\",\n      \"properties\": {\n        \"dtype\": \"number\",\n        \"std\": 544977,\n        \"min\": 1732897980000,\n        \"max\": 1732899600000,\n        \"num_unique_values\": 10,\n        \"samples\": [\n          1732899420000,\n          1732898160000,\n          1732898880000\n        ],\n        \"semantic_type\": \"\",\n        \"description\": \"\"\n      }\n    },\n    {\n      \"column\": \"Open\",\n      \"properties\": {\n        \"dtype\": \"number\",\n        \"std\": 0.4251914601421068,\n        \"min\": 241.94,\n        \"max\": 243.57,\n        \"num_unique_values\": 9,\n        \"samples\": [\n          242.19,\n          242.45,\n          242.71\n        ],\n        \"semantic_type\": \"\",\n        \"description\": \"\"\n      }\n    },\n    {\n      \"column\": \"High\",\n      \"properties\": {\n        \"dtype\": \"number\",\n        \"std\": 0.4091305143566961,\n        \"min\": 242.24,\n        \"max\": 243.7,\n        \"num_unique_values\": 9,\n        \"samples\": [\n          242.34,\n          242.71,\n          242.91\n        ],\n        \"semantic_type\": \"\",\n        \"description\": \"\"\n      }\n    },\n    {\n      \"column\": \"Low\",\n      \"properties\": {\n        \"dtype\": \"number\",\n        \"std\": 0.23419839642681253,\n        \"min\": 241.92,\n        \"max\": 242.55,\n        \"num_unique_values\": 9,\n        \"samples\": [\n          242.0,\n          242.1,\n          242.42\n        ],\n        \"semantic_type\": \"\",\n        \"description\": \"\"\n      }\n    },\n    {\n      \"column\": \"Close\",\n      \"properties\": {\n        \"dtype\": \"number\",\n        \"std\": 0.28539251722652215,\n        \"min\": 241.94,\n        \"max\": 242.78,\n        \"num_unique_values\": 9,\n        \"samples\": [\n          241.94,\n          242.49,\n          242.78\n        ],\n        \"semantic_type\": \"\",\n        \"description\": \"\"\n      }\n    },\n    {\n      \"column\": \"Volume\",\n      \"properties\": {\n        \"dtype\": \"number\",\n        \"std\": 2791.6523673624415,\n        \"min\": 5748.204,\n        \"max\": 14883.795,\n        \"num_unique_values\": 10,\n        \"samples\": [\n          5992.496,\n          7876.074,\n          7133.511\n        ],\n        \"semantic_type\": \"\",\n        \"description\": \"\"\n      }\n    },\n    {\n      \"column\": \"CloseTime\",\n      \"properties\": {\n        \"dtype\": \"number\",\n        \"std\": 544977,\n        \"min\": 1732898159999,\n        \"max\": 1732899779999,\n        \"num_unique_values\": 10,\n        \"samples\": [\n          1732899599999,\n          1732898339999,\n          1732899059999\n        ],\n        \"semantic_type\": \"\",\n        \"description\": \"\"\n      }\n    },\n    {\n      \"column\": \"QuoteAssetVolume\",\n      \"properties\": {\n        \"dtype\": \"number\",\n        \"std\": 678577.5723551309,\n        \"min\": 1395061.29673,\n        \"max\": 3615510.41481,\n        \"num_unique_values\": 10,\n        \"samples\": [\n          1450849.19303,\n          1909204.23502,\n          1732032.94666\n        ],\n        \"semantic_type\": \"\",\n        \"description\": \"\"\n      }\n    },\n    {\n      \"column\": \"NumberOfTrades\",\n      \"properties\": {\n        \"dtype\": \"number\",\n        \"std\": 1346,\n        \"min\": 3204,\n        \"max\": 7653,\n        \"num_unique_values\": 10,\n        \"samples\": [\n          3204,\n          6884,\n          6413\n        ],\n        \"semantic_type\": \"\",\n        \"description\": \"\"\n      }\n    },\n    {\n      \"column\": \"TakerBuyBaseVolume\",\n      \"properties\": {\n        \"dtype\": \"number\",\n        \"std\": 1076.6806524392405,\n        \"min\": 2003.626,\n        \"max\": 5206.844,\n        \"num_unique_values\": 10,\n        \"samples\": [\n          2003.626,\n          4205.284,\n          3675.244\n        ],\n        \"semantic_type\": \"\",\n        \"description\": \"\"\n      }\n    },\n    {\n      \"column\": \"TakerBuyQuoteVolume\",\n      \"properties\": {\n        \"dtype\": \"number\",\n        \"std\": 261766.68941267137,\n        \"min\": 485232.53636,\n        \"max\": 1265771.04119,\n        \"num_unique_values\": 10,\n        \"samples\": [\n          485232.53636,\n          1019470.27273,\n          892393.83849\n        ],\n        \"semantic_type\": \"\",\n        \"description\": \"\"\n      }\n    },\n    {\n      \"column\": \"Ignore\",\n      \"properties\": {\n        \"dtype\": \"number\",\n        \"std\": 0,\n        \"min\": 0,\n        \"max\": 0,\n        \"num_unique_values\": 1,\n        \"samples\": [\n          0\n        ],\n        \"semantic_type\": \"\",\n        \"description\": \"\"\n      }\n    }\n  ]\n}"
            }
          },
          "metadata": {},
          "execution_count": 3
        }
      ]
    },
    {
      "cell_type": "code",
      "source": [
        "feature = df[['Open', 'High']]"
      ],
      "metadata": {
        "id": "yfS4VNfUMEP7"
      },
      "execution_count": null,
      "outputs": []
    },
    {
      "cell_type": "code",
      "source": [
        "Open = df['Open'].values\n",
        "High = df['High'].values\n",
        "Low = df['Low'].values"
      ],
      "metadata": {
        "id": "t5pnJYqpMinm"
      },
      "execution_count": null,
      "outputs": []
    },
    {
      "cell_type": "code",
      "source": [
        "import numpy as np\n",
        "\n",
        "Open_new = [1.00]\n",
        "for i in range(1,  len(Open)):\n",
        "  Open_new.append(((Open[i] - Open[i-1]) / Open[i-1]) + 1)\n",
        "Open_new = np.array(Open_new)\n",
        "\n",
        "High_new = [1.00]\n",
        "for i in range(1,  len(High)):\n",
        "  High_new.append(((High[i] - High[i-1]) / High[i-1]) + 1)\n",
        "High_new = np.array(High_new)\n",
        "\n",
        "Low_new = [1.00]\n",
        "for i in range(1,  len(Low)):\n",
        "  Low_new.append(((Low[i] - Low[i-1]) / Low[i-1]) + 1)\n",
        "Low_new = np.array(Low_new)\n"
      ],
      "metadata": {
        "id": "E1N8nOQJMofv"
      },
      "execution_count": null,
      "outputs": []
    },
    {
      "cell_type": "code",
      "source": [
        "print(len(Open_new))"
      ],
      "metadata": {
        "colab": {
          "base_uri": "https://localhost:8080/"
        },
        "id": "DDBooQcVQ4nh",
        "outputId": "996e3416-c0c0-401d-abf1-b6a57ba6502b"
      },
      "execution_count": null,
      "outputs": [
        {
          "output_type": "stream",
          "name": "stdout",
          "text": [
            "751000\n"
          ]
        }
      ]
    },
    {
      "cell_type": "code",
      "source": [
        "for i in range(10):\n",
        "  print(Open_new[i], High_new[i], Low_new[i])\n"
      ],
      "metadata": {
        "colab": {
          "base_uri": "https://localhost:8080/"
        },
        "id": "QP2rk6pTNBE-",
        "outputId": "21431b37-9da0-440f-e1e8-5d6efb59250e"
      },
      "execution_count": null,
      "outputs": [
        {
          "output_type": "stream",
          "name": "stdout",
          "text": [
            "1.0 1.0 1.0\n",
            "1.0 1.0 0.9973809134064495\n",
            "1.0010476346374202 1.0 1.003577876251436\n",
            "0.9999018870392778 0.9999018870392778 0.9963694642506705\n",
            "0.9994112644730818 1.0000981225878198 0.9987197583954306\n",
            "0.9981672993847361 1.0013081728096282 1.002498027872732\n",
            "0.9983278688524592 0.994512852336937 0.9983278688524592\n",
            "1.0 1.0 0.9955991986600544\n",
            "0.9955991986600544 0.9955991986600544 0.9929078014184397\n",
            "0.9959755896420914 0.9959755896420914 1.0002990033222592\n"
          ]
        }
      ]
    },
    {
      "cell_type": "code",
      "source": [
        "df.info()"
      ],
      "metadata": {
        "colab": {
          "base_uri": "https://localhost:8080/"
        },
        "id": "_jjteg9BSBXF",
        "outputId": "ba3cb3a8-450b-44de-f73e-bb25b77ded4a"
      },
      "execution_count": null,
      "outputs": [
        {
          "output_type": "stream",
          "name": "stdout",
          "text": [
            "<class 'pandas.core.frame.DataFrame'>\n",
            "RangeIndex: 751000 entries, 0 to 750999\n",
            "Data columns (total 12 columns):\n",
            " #   Column               Non-Null Count   Dtype  \n",
            "---  ------               --------------   -----  \n",
            " 0   OpenTime             751000 non-null  int64  \n",
            " 1   Open                 751000 non-null  float64\n",
            " 2   High                 751000 non-null  float64\n",
            " 3   Low                  751000 non-null  float64\n",
            " 4   Close                751000 non-null  float64\n",
            " 5   Volume               751000 non-null  float64\n",
            " 6   CloseTime            751000 non-null  int64  \n",
            " 7   QuoteAssetVolume     751000 non-null  float64\n",
            " 8   NumberOfTrades       751000 non-null  int64  \n",
            " 9   TakerBuyBaseVolume   751000 non-null  float64\n",
            " 10  TakerBuyQuoteVolume  751000 non-null  float64\n",
            " 11  Ignore               751000 non-null  int64  \n",
            "dtypes: float64(8), int64(4)\n",
            "memory usage: 68.8 MB\n"
          ]
        }
      ]
    },
    {
      "cell_type": "code",
      "source": [
        "# target ="
      ],
      "metadata": {
        "id": "VPVwFcJlUMeG"
      },
      "execution_count": null,
      "outputs": []
    },
    {
      "cell_type": "code",
      "source": [
        "# features = df[['Volume', 'QuoteAssetVolume', 'NumberOfTrades', 'TakerBuyBaseVolume', 'TakerBuyQuoteVolume']].values\n",
        "# for i in range(5):\n",
        "#   print(features[i])\n",
        "# print()\n",
        "# features = np.column_stack((features, Open_new))\n",
        "# features = np.column_stack((features, High_new))\n",
        "# features = np.column_stack((features, Low_new))\n",
        "# for i in range(5):\n",
        "#   print(features[i])"
      ],
      "metadata": {
        "id": "2zZLUSHBPqNv"
      },
      "execution_count": null,
      "outputs": []
    },
    {
      "cell_type": "code",
      "source": [
        "def min_next_elements(x, y, z):\n",
        "  target = []\n",
        "  for i in range(len(x)-1):\n",
        "    prod = x[i]\n",
        "    for j in range(i+1, min(i+z+1, len(x))):\n",
        "      prod *= x[j]\n",
        "      if prod >= y:\n",
        "        target.append(j-i)\n",
        "        break\n",
        "    target.append(-1)\n",
        "  return target\n",
        "\n"
      ],
      "metadata": {
        "id": "PbmDVXtrMO2j"
      },
      "execution_count": null,
      "outputs": []
    },
    {
      "cell_type": "code",
      "source": [
        "target = min_next_elements(Open_new, 1.01, 480)"
      ],
      "metadata": {
        "id": "XK-FAVTrLSrC"
      },
      "execution_count": null,
      "outputs": []
    },
    {
      "cell_type": "code",
      "source": [
        "for i in range(50):\n",
        "  print(target[i])"
      ],
      "metadata": {
        "colab": {
          "base_uri": "https://localhost:8080/"
        },
        "id": "7EbYErBQO2de",
        "outputId": "3c447008-538a-4722-ccbc-8a0299d64b78"
      },
      "execution_count": null,
      "outputs": [
        {
          "output_type": "stream",
          "name": "stdout",
          "text": [
            "126\n",
            "-1\n",
            "125\n",
            "-1\n",
            "124\n",
            "-1\n",
            "123\n",
            "-1\n",
            "122\n",
            "-1\n",
            "121\n",
            "-1\n",
            "120\n",
            "-1\n",
            "119\n",
            "-1\n",
            "118\n",
            "-1\n",
            "30\n",
            "-1\n",
            "25\n",
            "-1\n",
            "24\n",
            "-1\n",
            "23\n",
            "-1\n",
            "22\n",
            "-1\n",
            "21\n",
            "-1\n",
            "24\n",
            "-1\n",
            "23\n",
            "-1\n",
            "109\n",
            "-1\n",
            "21\n",
            "-1\n",
            "20\n",
            "-1\n",
            "15\n",
            "-1\n",
            "18\n",
            "-1\n",
            "17\n",
            "-1\n",
            "16\n",
            "-1\n",
            "11\n",
            "-1\n"
          ]
        }
      ]
    },
    {
      "cell_type": "code",
      "source": [
        "for i in range(10):\n",
        "  print(Open_new[i])"
      ],
      "metadata": {
        "colab": {
          "base_uri": "https://localhost:8080/"
        },
        "id": "qty5DiRvNZXE",
        "outputId": "13846dd2-8c78-4390-fcd4-88ad07874f3d"
      },
      "execution_count": null,
      "outputs": [
        {
          "output_type": "stream",
          "name": "stdout",
          "text": [
            "1.0\n",
            "1.0\n",
            "1.0010476346374202\n",
            "0.9999018870392778\n",
            "0.9994112644730818\n",
            "0.9981672993847361\n",
            "0.9983278688524592\n",
            "1.0\n",
            "0.9955991986600544\n",
            "0.9959755896420914\n"
          ]
        }
      ]
    },
    {
      "cell_type": "code",
      "source": [
        "for i in range(10):\n",
        "  print(target[(i)])"
      ],
      "metadata": {
        "colab": {
          "base_uri": "https://localhost:8080/"
        },
        "id": "mgDQ1d6rLeBN",
        "outputId": "35488eee-2fb8-48b6-c67d-94c9ca29caf9"
      },
      "execution_count": null,
      "outputs": [
        {
          "output_type": "stream",
          "name": "stdout",
          "text": [
            "126\n",
            "-1\n",
            "125\n",
            "-1\n",
            "124\n",
            "-1\n",
            "123\n",
            "-1\n",
            "122\n",
            "-1\n"
          ]
        }
      ]
    },
    {
      "cell_type": "code",
      "source": [
        "filt = [ele for ele in target if ele != None]\n",
        "print(f'min: {min(filt)}, max: {max(filt)}')"
      ],
      "metadata": {
        "colab": {
          "base_uri": "https://localhost:8080/"
        },
        "id": "6So7xguZLxyO",
        "outputId": "f7d837f0-b11a-47bc-a537-295e3e9fec77"
      },
      "execution_count": null,
      "outputs": [
        {
          "output_type": "stream",
          "name": "stdout",
          "text": [
            "min: -1, max: 480\n"
          ]
        }
      ]
    },
    {
      "cell_type": "code",
      "source": [
        "import matplotlib.pyplot as plt\n",
        "\n",
        "# Suppose we have an array of values\n",
        "# values = [10, 20, 15, 30, 25]\n",
        "# values = target[-1020:-1000]\n",
        "values = target[-1000:]\n",
        "\n",
        "# The x-axis will be the array indices (0, 1, 2, 3, ...)\n",
        "x = range(len(values))\n",
        "\n",
        "# Plot the values against their indices\n",
        "plt.plot(x, values, marker='o', linestyle='-')\n",
        "\n",
        "# Optionally label axes\n",
        "plt.xlabel('Index')\n",
        "plt.ylabel('Value')\n",
        "\n",
        "# Display the plot\n",
        "plt.show()\n"
      ],
      "metadata": {
        "colab": {
          "base_uri": "https://localhost:8080/",
          "height": 449
        },
        "id": "8HKW2WzeX8Yu",
        "outputId": "f68972dd-373a-40de-b45a-41f2a593a25c"
      },
      "execution_count": null,
      "outputs": [
        {
          "output_type": "display_data",
          "data": {
            "text/plain": [
              "<Figure size 640x480 with 1 Axes>"
            ],
            "image/png": "[encoded data removed]"
          },
          "metadata": {}
        }
      ]
    },
    {
      "cell_type": "code",
      "source": [
        "# import plotly.graph_objects as go\n",
        "\n",
        "# # values = [10, 20, 15, 30, 25]\n",
        "# values = target\n",
        "\n",
        "# # Create a trace with indices as x and values as y\n",
        "# fig = go.Figure(data=go.Scatter(x=list(range(len(values))), y=values, mode='lines+markers'))\n",
        "\n",
        "# fig.update_layout(\n",
        "#     xaxis_title='Index',\n",
        "#     yaxis_title='Value'\n",
        "# )\n",
        "\n",
        "# fig.show()\n",
        "# fig.write_html('plot4.html')\n"
      ],
      "metadata": {
        "id": "YobBsjMUPmFl"
      },
      "execution_count": null,
      "outputs": []
    }
  ]
}